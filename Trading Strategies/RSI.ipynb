{
 "cells": [
  {
   "cell_type": "code",
   "execution_count": null,
   "metadata": {},
   "outputs": [],
   "source": [
    "import pandas as pd\n",
    "import numpy as np\n",
    "import matplotlib.pyplot as plt\n",
    "from sklearn.model_selection import train_test_split\n",
    "from sklearn.linear_model import LinearRegression\n",
    "\n",
    "# Load the historical closing prices from CSV file\n",
    "data = pd.read_csv('/kaggle/input/stock-data/Nifty_50_with_indicators_.csv')\n",
    "data['Date']=pd.to_datetime(data['Date'])\n",
    "data = data.sort_values(by='Date')\n",
    "data = data.set_index(pd.DatetimeIndex(data['Date'].values))\n",
    "data=data[['Date', 'open', 'high','low', 'close']]\n",
    "data"
   ]
  },
  {
   "cell_type": "code",
   "execution_count": null,
   "metadata": {},
   "outputs": [],
   "source": [
    "# Calculate RSI\n",
    "def calculate_rsi(data, window=14):\n",
    "    close_prices = data['close'].values\n",
    "    changes = np.diff(close_prices)\n",
    "    up_changes = np.where(changes >= 0, changes, 0)\n",
    "    down_changes = np.where(changes < 0, -changes, 0)\n",
    "    avg_gain = np.mean(up_changes[:window])\n",
    "    avg_loss = np.mean(down_changes[:window])\n",
    "    rsi_values = []\n",
    "    for i in range(window, len(close_prices)+window-2):\n",
    "        if avg_loss == 0:\n",
    "            rsi = 100\n",
    "        else:\n",
    "            rs = avg_gain / avg_loss\n",
    "            rsi = 100 - (100 / (1 + rs))\n",
    "        rsi_values.append(rsi)\n",
    "        change = changes[i - window + 1]\n",
    "        if change >= 0:\n",
    "            avg_gain = (avg_gain * (window - 1) + change) / window\n",
    "            avg_loss = (avg_loss * (window - 1)) / window\n",
    "        else:\n",
    "            avg_gain = (avg_gain * (window - 1)) / window\n",
    "            avg_loss = (avg_loss * (window - 1) - change) / window\n",
    "        \n",
    "    print(len(close_prices))\n",
    "    return np.array(rsi_values)"
   ]
  },
  {
   "cell_type": "code",
   "execution_count": null,
   "metadata": {},
   "outputs": [],
   "source": [
    "# Prepare features and target\n",
    "closing_prices = data['close'].values\n",
    "rsi_values = calculate_rsi(data)\n",
    "print(closing_prices)\n",
    "print(rsi_values)\n",
    "X = rsi_values.reshape(-1, 1)\n",
    "x=[]\n",
    "y = closing_prices[:-2]"
   ]
  },
  {
   "cell_type": "code",
   "execution_count": null,
   "metadata": {},
   "outputs": [],
   "source": [
    "# split data into train test sets\n",
    "splitlimit = int(len(X)*0.8)\n",
    "print(splitlimit)\n",
    "X_train, X_test = X[:splitlimit], X[splitlimit:]\n",
    "y_train, y_test = y[:splitlimit], y[splitlimit:]\n",
    "print(X_train.shape)\n",
    "print(X_test.shape)\n",
    "print(y_train.shape)\n",
    "print(y_test.shape)\n",
    "print(y_train)"
   ]
  },
  {
   "cell_type": "code",
   "execution_count": null,
   "metadata": {},
   "outputs": [],
   "source": [
    "# Train the linear regression model\n",
    "model = LinearRegression()\n",
    "model.fit(np.array(X_train), y_train)\n",
    "\n",
    "# Make predictions\n",
    "predictions = model.predict(X_test)\n",
    "\n",
    "# Print predicted and actual closing prices\n",
    "for i in range(len(predictions)):\n",
    "    print(\"Predicted:\", predictions[i])\n",
    "    print(\"Actual:\", y_test[i])"
   ]
  },
  {
   "cell_type": "code",
   "execution_count": null,
   "metadata": {},
   "outputs": [],
   "source": [
    "plt.figure(figsize=(16,8))\n",
    "plt.plot(y_test, color = 'black', label = 'Test')\n",
    "plt.plot(predictions, color = 'green', label = 'pred')\n",
    "plt.legend()\n",
    "plt.show()"
   ]
  }
 ],
 "metadata": {
  "language_info": {
   "name": "python"
  },
  "orig_nbformat": 4
 },
 "nbformat": 4,
 "nbformat_minor": 2
}
