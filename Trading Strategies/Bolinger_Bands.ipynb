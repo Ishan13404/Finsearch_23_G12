{
 "cells": [
  {
   "cell_type": "code",
   "execution_count": null,
   "metadata": {},
   "outputs": [],
   "source": [
    "import pandas as pd\n",
    "import numpy as np\n",
    "import plotly.express as px\n",
    "import plotly.graph_objects as go\n",
    "from datetime import datetime, timedelta"
   ]
  },
  {
   "cell_type": "code",
   "execution_count": null,
   "metadata": {},
   "outputs": [],
   "source": [
    "df = pd.read_csv('/kaggle/input/stock-data/Nifty_50_with_indicators_.csv')\n",
    "df['Date']=pd.to_datetime(df['Date'])\n",
    "df = df.sort_values(by='Date')\n",
    "df = df.set_index(pd.DatetimeIndex(df['Date'].values))\n",
    "df=df[['Date', 'open', 'high','low', 'close']]['2004-07-02':'2005-07-02']\n",
    "df"
   ]
  },
  {
   "cell_type": "code",
   "execution_count": null,
   "metadata": {},
   "outputs": [],
   "source": [
    "# plotting close prices\n",
    "fig = px.line(df, x='Date', y='close')\n",
    "fig"
   ]
  },
  {
   "cell_type": "code",
   "execution_count": null,
   "metadata": {},
   "outputs": [],
   "source": [
    "# calculate bollinger bands\n",
    "\n",
    "# calculate sma\n",
    "df['sma'] = df['close'].rolling(20).mean()\n",
    "\n",
    "# calculate standard deviation\n",
    "df['sd'] = df['close'].rolling(20).std()\n",
    "\n",
    "# calculate lower band\n",
    "df['lb'] = df['sma'] - 2 * df['sd']\n",
    "\n",
    "# calculate upper band\n",
    "df['ub'] = df['sma'] + 2 * df['sd']\n",
    "\n",
    "df.dropna(inplace=True)\n",
    "df"
   ]
  },
  {
   "cell_type": "code",
   "execution_count": null,
   "metadata": {},
   "outputs": [],
   "source": [
    "# plotting close prices with bollinger bands\n",
    "fig = px.line(df, x='Date', y=['close', 'sma', 'lb', 'ub'])\n",
    "fig"
   ]
  },
  {
   "cell_type": "code",
   "execution_count": null,
   "metadata": {},
   "outputs": [],
   "source": [
    "# find signals\n",
    "\n",
    "def find_signal(close, lower_band, upper_band):\n",
    "    if close < lower_band:\n",
    "        return 'buy'\n",
    "    elif close > upper_band:\n",
    "        return 'sell'\n",
    "    \n",
    "    \n",
    "df['signal'] = np.vectorize(find_signal)(df['close'], df['lb'], df['ub'])\n",
    "\n",
    "df"
   ]
  },
  {
   "cell_type": "code",
   "execution_count": null,
   "metadata": {},
   "outputs": [],
   "source": [
    "# creating backtest and position classes\n",
    "\n",
    "class Position:\n",
    "    def __init__(self, open_datetime, open_price, order_type, volume, sl, tp):\n",
    "        self.open_datetime = open_datetime\n",
    "        self.open_price = open_price\n",
    "        self.order_type = order_type\n",
    "        self.volume = volume\n",
    "        self.sl = sl\n",
    "        self.tp = tp\n",
    "        self.close_datetime = None\n",
    "        self.close_price = None\n",
    "        self.profit = None\n",
    "        self.status = 'open'\n",
    "        \n",
    "    def close_position(self, close_datetime, close_price):\n",
    "        self.close_datetime = close_datetime\n",
    "        self.close_price = close_price\n",
    "        self.profit = (self.close_price - self.open_price) * self.volume if self.order_type == 'buy' \\\n",
    "                                                                        else (self.open_price - self.close_price) * self.volume\n",
    "        self.status = 'closed'\n",
    "        \n",
    "    def _asdict(self):\n",
    "        return {\n",
    "            'open_datetime': self.open_datetime,\n",
    "            'open_price': self.open_price,\n",
    "            'order_type': self.order_type,\n",
    "            'volume': self.volume,\n",
    "            'sl': self.sl,\n",
    "            'tp': self.tp,\n",
    "            'close_datetime': self.close_datetime,\n",
    "            'close_price': self.close_price,\n",
    "            'profit': self.profit,\n",
    "            'status': self.status,\n",
    "        }\n",
    "        \n",
    "        \n",
    "class Strategy:\n",
    "    def __init__(self, df, starting_balance, volume):\n",
    "        self.starting_balance = starting_balance\n",
    "        self.volume = volume\n",
    "        self.positions = []\n",
    "        self.data = df\n",
    "        \n",
    "    def get_positions_df(self):\n",
    "        df = pd.DataFrame([position._asdict() for position in self.positions])\n",
    "        df['pnl'] = df['profit'].cumsum() + self.starting_balance\n",
    "        return df\n",
    "        \n",
    "    def add_position(self, position):\n",
    "        self.positions.append(position)\n",
    "        \n",
    "    def trading_allowed(self):\n",
    "        for pos in self.positions:\n",
    "            if pos.status == 'open':\n",
    "                return False\n",
    "        \n",
    "        return True\n",
    "        \n",
    "    def run(self):\n",
    "        for i, data in self.data.iterrows():\n",
    "            \n",
    "            if data.signal == 'buy' and self.trading_allowed():\n",
    "                sl = data.close - 3 * data.sd\n",
    "                tp = data.close + 2 * data.sd\n",
    "                self.add_position(Position(data.Date, data.close, data.signal, self.volume, sl, tp))\n",
    "                \n",
    "            elif data.signal == 'sell' and self.trading_allowed():\n",
    "                sl = data.close + 3 * data.sd\n",
    "                tp = data.close - 2 * data.sd\n",
    "                self.add_position(Position(data.Date, data.close, data.signal, self.volume, sl, tp))\n",
    "                \n",
    "            for pos in self.positions:\n",
    "                if pos.status == 'open':\n",
    "                    if (pos.sl >= data.close and pos.order_type == 'buy'):\n",
    "                        pos.close_position(data.Date, pos.sl)\n",
    "                    elif (pos.sl <= data.close and pos.order_type == 'sell'):\n",
    "                        pos.close_position(data.Date, pos.sl)\n",
    "                    elif (pos.tp <= data.close and pos.order_type == 'buy'):\n",
    "                        pos.close_position(data.Date, pos.tp)\n",
    "                    elif (pos.tp >= data.close and pos.order_type == 'sell'):\n",
    "                        pos.close_position(data.Date, pos.tp)\n",
    "                        \n",
    "        return self.get_positions_df()\n",
    "\n"
   ]
  },
  {
   "cell_type": "code",
   "execution_count": null,
   "metadata": {},
   "outputs": [],
   "source": [
    "# run the backtest\n",
    "bollinger_strategy = Strategy(df, 10000, 100000)\n",
    "result = bollinger_strategy.run()\n",
    "\n",
    "result"
   ]
  },
  {
   "cell_type": "code",
   "execution_count": null,
   "metadata": {},
   "outputs": [],
   "source": [
    "# plotting close prices with bollinger bands\n",
    "fig = px.line(df, x='Date', y=['close', 'sma', 'lb', 'ub'])\n",
    "\n",
    "# adding trades to plots\n",
    "for i, position in result.iterrows():\n",
    "    if position.status == 'closed':\n",
    "        fig.add_shape(type=\"line\",\n",
    "            x0=position.open_datetime, y0=position.open_price, x1=position.close_datetime, y1=position.close_price,\n",
    "            line=dict(\n",
    "                color=\"green\" if position.profit >= 0 else \"red\",\n",
    "                width=3)\n",
    "            )\n",
    "fig"
   ]
  },
  {
   "cell_type": "code",
   "execution_count": null,
   "metadata": {},
   "outputs": [],
   "source": [
    "# visualizing the results of the backtest\n",
    "px.line(result, x='close_datetime', y='pnl')"
   ]
  }
 ],
 "metadata": {
  "language_info": {
   "name": "python"
  },
  "orig_nbformat": 4
 },
 "nbformat": 4,
 "nbformat_minor": 2
}
