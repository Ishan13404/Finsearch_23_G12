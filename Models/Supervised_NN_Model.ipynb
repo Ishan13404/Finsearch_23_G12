{
 "cells": [
  {
   "cell_type": "markdown",
   "metadata": {},
   "source": [
    "Run the cell below to import the training and test data."
   ]
  },
  {
   "cell_type": "code",
   "execution_count": null,
   "metadata": {},
   "outputs": [],
   "source": [
    "import pandas as pd\n",
    "import numpy as np\n",
    "from tensorflow import keras\n",
    "from tensorflow.keras import optimizers, losses, callbacks\n",
    "\n",
    "df1=pd.read_csv('/kaggle/input/nifty-50-stock-data-0115-to-0619/NIFTY 50-01-01-2015-to-31-12-2015.csv')\n",
    "df2=pd.read_csv('/kaggle/input/nifty-50-stock-data-0115-to-0619/NIFTY 50-01-01-2016-to-31-12-2016.csv')\n",
    "df3=pd.read_csv('/kaggle/input/nifty-50-stock-data-0115-to-0619/NIFTY 50-01-01-2017-to-31-12-2017.csv')\n",
    "df4=pd.read_csv('/kaggle/input/nifty-50-stock-data-0115-to-0619/NIFTY 50-01-01-2018-to-31-12-2018.csv')\n",
    "df5=pd.read_csv('/kaggle/input/nifty-50-stock-data-0115-to-0619/NIFTY 50-01-01-2019-to-30-06-2019.csv')\n",
    "\n",
    "#training_data=pd.concat([df1, df2, df3, df4, df5])\n",
    "training_data=pd.read_csv('/kaggle/input/stock-market-data-nifty-50-2000-2022/Nifty_50_with_indicators_.csv')\n",
    "training_data['Date']=pd.to_datetime(training_data['Date'])\n",
    "training_data = training_data.sort_values(by='Date')\n",
    "#print(training_data)\n",
    "\n",
    "# set the test data\n",
    "test_data_input = pd.DataFrame({'open': training_data['open'].iloc[5581],\n",
    "                                'high': training_data['high'].iloc[5581],\n",
    "                                'low': training_data['low'].iloc[5581]}, index=[5581])\n",
    "\n",
    "test_data_output = pd.DataFrame({'close': training_data['close'].iloc[5581]}, index=[5581])\n",
    "#print(test_data_input)\n",
    "#print(test_data_output)\n",
    "training_data=training_data.drop(0)\n",
    "#print(training_data)\n",
    "\n",
    "# set the training data\n",
    "train_data_output = pd.DataFrame(training_data['close'][0:2792])\n",
    "train_data_input = pd.DataFrame(training_data[['open', 'high', 'low']][0:2792])\n",
    "print(train_data_input)\n",
    "print(train_data_output)\n",
    "\n",
    "#set the validation data\n",
    "val_data_output = pd.DataFrame(training_data['close'][2792:5582])\n",
    "val_data_input = pd.DataFrame(training_data[['open', 'high', 'low']][2792:5582])\n",
    "print(val_data_input)\n",
    "print(val_data_output)"
   ]
  },
  {
   "cell_type": "markdown",
   "metadata": {},
   "source": [
    "Run the cell below to train your model."
   ]
  },
  {
   "cell_type": "code",
   "execution_count": null,
   "metadata": {},
   "outputs": [],
   "source": [
    "model = keras.Sequential([\n",
    "    #input layer\n",
    "    keras.layers.Dense(3, activation='relu', input_shape=[3]),\n",
    "    #keras.layers.Dropout(0.2),\n",
    "\n",
    "    #hidden layers\n",
    "    #keras.layers.Dense(4096, activation='relu', kernel_regularizer=keras.regularizers.l2(0.01)),\n",
    "    keras.layers.Dense(1024, activation='relu'),\n",
    "    keras.layers.Dense(1024, activation='relu'),\n",
    "    keras.layers.Dense(512, activation='relu'),\n",
    "    keras.layers.Dense(256, activation='relu'),\n",
    "    keras.layers.Dense(256, activation='relu'),\n",
    "    \n",
    "    #output layer\n",
    "    keras.layers.Dense(1, activation='linear')\n",
    "])\n",
    "\n",
    "# Define early stopping callback\n",
    "early_stopping = callbacks.EarlyStopping(monitor='val_loss', patience=5)\n",
    "\n",
    "# Set the laerning rate\n",
    "learning_rate = 0.001\n",
    "\n",
    "# Choose the optimizer\n",
    "optimizer = optimizers.Adam(learning_rate=learning_rate)\n",
    "#optimizer = optimizers.RMSprop(learning_rate=learning_rate)\n",
    "#optimizer = optimizers.SGD(learning_rate=learning_rate)\n",
    "#optimizer = optimizers.Adagrad(learning_rate=learning_rate)\n",
    "\n",
    "# Choose the loss function\n",
    "#loss=losses.mean_absolute_error\n",
    "loss=losses.mean_squared_error\n",
    "#loss=losses.binary_crossentropy\n",
    "\n",
    "model.compile(optimizer=optimizer, loss=loss)\n",
    "\n",
    "model.fit(train_data_input ,train_data_output, validation_data=(val_data_input ,val_data_output), epochs=30, batch_size=100,  callbacks=[early_stopping])"
   ]
  },
  {
   "cell_type": "markdown",
   "metadata": {},
   "source": [
    "Run the cell below to test your model."
   ]
  },
  {
   "cell_type": "code",
   "execution_count": null,
   "metadata": {},
   "outputs": [],
   "source": [
    "print(\"Actual : \", test_data_output.values[0][0])\n",
    "print(\"Predicted : \",model.predict(test_data_input)[0][0])"
   ]
  }
 ],
 "metadata": {
  "language_info": {
   "name": "python"
  },
  "orig_nbformat": 4
 },
 "nbformat": 4,
 "nbformat_minor": 2
}
