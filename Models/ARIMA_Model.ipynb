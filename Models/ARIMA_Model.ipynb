{
 "cells": [
  {
   "cell_type": "code",
   "execution_count": null,
   "metadata": {},
   "outputs": [],
   "source": [
    "import pandas as pd\n",
    "import matplotlib.pyplot as plt\n",
    "import numpy as np\n",
    "import math\n",
    "import statsmodels\n",
    "from statsmodels.tsa.arima.model import ARIMA \n",
    "\n",
    "df = pd.read_csv(r'C:\\Desktop\\Finsearch_23_G12\\Stock_data\\Nifty_50_2000-2023\\Nifty_50_with_indicators_.csv') \n",
    "df['Date']=pd.to_datetime(df['Date'])\n",
    "df = df.sort_values(by='Date')\n",
    "df = df.set_index(pd.DatetimeIndex(df['Date'].values))\n",
    "df"
   ]
  },
  {
   "cell_type": "code",
   "execution_count": null,
   "metadata": {},
   "outputs": [],
   "source": [
    "plt.figure(figsize=(12.2,4.5))\n",
    "plt.plot(df['close'],label='Close')\n",
    "plt.title('Closing Price history')\n",
    "plt.xlabel('Date')\n",
    "plt.ylabel('Closing prices')\n",
    "plt.show()"
   ]
  },
  {
   "cell_type": "markdown",
   "metadata": {},
   "source": [
    "**Stationarity**<br>\n",
    "Subtract the previous value from the current value. Now if we just difference once, we might not get a stationary series so we might need to do that multiple times.\n",
    "\n",
    "And the minimum number of differencing operators needed to make the series stationary needs to be inputed into our ARIMA Model.\n",
    "<br><br>\n",
    "**ADF Test**<br>\n",
    "We'll use the Augmented Dickey Fuller (ADF) Test to check if the price series is stationary. The null-hypothesis of the ADF test is that the time series is not-stationary. So if the p-value of test is less than the significant level(0.05) then we can reject the null-hypothesis and infer that the time series is indeed stationary.\n",
    "\n",
    "So, if p-value>0.05 , we'll need to fing the order of differencing"
   ]
  },
  {
   "cell_type": "code",
   "execution_count": null,
   "metadata": {},
   "outputs": [],
   "source": [
    "# Check if the data is stationary\n",
    "from statsmodels.tsa.stattools import adfuller\n",
    "\n",
    "result = adfuller(df.close.dropna())\n",
    "print(f\"ADF Statistic: {result[0]}\")\n",
    "print(f\"p-value: {result[1]}\")"
   ]
  },
  {
   "cell_type": "markdown",
   "metadata": {},
   "source": [
    "**Autocorelation function (ACF)**"
   ]
  },
  {
   "cell_type": "code",
   "execution_count": null,
   "metadata": {},
   "outputs": [],
   "source": [
    "from statsmodels.graphics.tsaplots import plot_acf\n",
    "\n",
    "fig, (ax1, ax2) = plt.subplots(1,2, figsize=(16,4))\n",
    "\n",
    "ax1.plot(df.close)\n",
    "ax1.set_title(\"Original\")\n",
    "plot_acf(df.close, ax=ax2);"
   ]
  },
  {
   "cell_type": "code",
   "execution_count": null,
   "metadata": {},
   "outputs": [],
   "source": [
    "diff=df.close.diff().dropna()\n",
    "\n",
    "fig, (ax1, ax2) = plt.subplots(1,2, figsize=(16,4))\n",
    "ax1.plot(diff)\n",
    "ax1.set_title(\"Difference once\")\n",
    "plot_acf(diff, ax=ax2);"
   ]
  },
  {
   "cell_type": "code",
   "execution_count": null,
   "metadata": {},
   "outputs": [],
   "source": [
    "%pip install --skip-lock pmdarima\n",
    "\n",
    "from pmdarima.arima.utils import ndiffs\n",
    "ndiffs(df.close, test=\"adf\") # this could have given the output as 1 (calculating d)"
   ]
  },
  {
   "cell_type": "code",
   "execution_count": null,
   "metadata": {},
   "outputs": [],
   "source": [
    "diff=df.close.diff().dropna()\n",
    "\n",
    "fig, (ax1, ax2) = plt.subplots(1,2, figsize=(16,4))\n",
    "ax1.plot(diff)\n",
    "ax1.set_title(\"Difference once\")\n",
    "plot_acf(diff, ax=ax2, ylim= (0, 1));"
   ]
  },
  {
   "cell_type": "code",
   "execution_count": null,
   "metadata": {},
   "outputs": [],
   "source": [
    "from statsmodels.tsa.arima.model import ARIMA \n",
    "\n",
    "#ARIMA Model\n",
    "model = ARIMA(df.close, order=(5,1,12))\n",
    "result=model.fit()\n",
    "print(result.summary())"
   ]
  },
  {
   "cell_type": "code",
   "execution_count": null,
   "metadata": {},
   "outputs": [],
   "source": [
    "#plot residual errors\n",
    "residuals = pd.DataFrame(result.resid)\n",
    "\n",
    "fig, (ax1, ax2) = plt.subplots(1, 2, figsize=(16,4))\n",
    "\n",
    "ax1.plot(residuals)\n",
    "ax2.hist(residuals, density=True)"
   ]
  },
  {
   "cell_type": "code",
   "execution_count": null,
   "metadata": {},
   "outputs": [],
   "source": [
    "#Actual vs Fitted\n",
    "# Obtain the predicted values\n",
    "predicted = result.predict(start=0, end=100)\n",
    "\n",
    "# Plot actual vs. fitted values\n",
    "plt.figure(figsize=(20, 20))\n",
    "plt.plot(df.close[0:100], label='Actual')\n",
    "plt.plot(predicted, label='Predicted')\n",
    "plt.xlabel('Date')\n",
    "plt.ylabel('Value')\n",
    "plt.title('ARIMA Model Predictions')\n",
    "plt.legend()\n",
    "# Save the plot\n",
    "#plt.savefig('C:\\Desktop\\ARIMA_predictions.png')  # Provide the desired filename and extension\n",
    "plt.show()"
   ]
  }
 ],
 "metadata": {
  "language_info": {
   "name": "python"
  },
  "orig_nbformat": 4
 },
 "nbformat": 4,
 "nbformat_minor": 2
}
